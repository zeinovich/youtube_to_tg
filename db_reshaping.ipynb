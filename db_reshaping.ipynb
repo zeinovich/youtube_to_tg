{
 "cells": [
  {
   "cell_type": "code",
   "execution_count": 36,
   "metadata": {},
   "outputs": [],
   "source": [
    "import json\n",
    "import os\n",
    "os.chdir('/Users/nikit/youtube/')"
   ]
  },
  {
   "cell_type": "code",
   "execution_count": 37,
   "metadata": {},
   "outputs": [],
   "source": [
    "with open('podcast_data.json','r') as file:\n",
    "        database = json.load(file)"
   ]
  },
  {
   "cell_type": "code",
   "execution_count": 38,
   "metadata": {},
   "outputs": [],
   "source": [
    "import pandas as pd\n",
    "db = pd.DataFrame(database).T\n",
    "db.index.name = 'title'"
   ]
  },
  {
   "cell_type": "code",
   "execution_count": null,
   "metadata": {},
   "outputs": [],
   "source": [
    "from pytube import YouTube\n",
    "for idx in db.index.tolist():\n",
    "    link = db.loc[idx, 'Link']\n",
    "    video = YouTube(link)\n",
    "    db.loc[idx, 'Thumb'] = video.thumbnail_url\n",
    "    db.loc[idx, 'Duration'] = video.length\n",
    "    db.loc[idx, 'video_id'] = video.video_id\n",
    "    print(video.video_id)\n",
    "    db.loc[idx, 'Description'] = video.description"
   ]
  },
  {
   "cell_type": "code",
   "execution_count": 40,
   "metadata": {},
   "outputs": [],
   "source": [
    "db = db.reset_index()"
   ]
  },
  {
   "cell_type": "code",
   "execution_count": 41,
   "metadata": {},
   "outputs": [],
   "source": [
    "db = db.set_index('video_id')"
   ]
  },
  {
   "cell_type": "code",
   "execution_count": null,
   "metadata": {},
   "outputs": [],
   "source": [
    "db.pop('Link')\n",
    "db.pop('Path')\n",
    "db.pop(\"Video\")\n",
    "db.pop('Sent')"
   ]
  },
  {
   "cell_type": "code",
   "execution_count": 43,
   "metadata": {},
   "outputs": [],
   "source": [
    "db.columns = db.columns.str.lower()"
   ]
  },
  {
   "cell_type": "code",
   "execution_count": 44,
   "metadata": {},
   "outputs": [],
   "source": [
    "db = db.rename(columns={'audio path': 'audio_path'})"
   ]
  },
  {
   "cell_type": "code",
   "execution_count": 45,
   "metadata": {},
   "outputs": [],
   "source": [
    "desc = db.pop('description')\n",
    "db.insert(2, 'description', desc)"
   ]
  },
  {
   "cell_type": "code",
   "execution_count": 50,
   "metadata": {},
   "outputs": [],
   "source": [
    "duration = db.pop('duration')\n",
    "db.insert(3, 'duration', duration)\n",
    "thumb = db.pop('thumb')\n",
    "db.insert(6, 'thumb', thumb)\n",
    "db =db.rename(columns={'processed': 'sent'})"
   ]
  },
  {
   "cell_type": "code",
   "execution_count": 51,
   "metadata": {},
   "outputs": [],
   "source": [
    "with open('podcast_data.csv', 'w', encoding='utf8') as file:\n",
    "    db.to_csv(file)"
   ]
  }
 ],
 "metadata": {
  "kernelspec": {
   "display_name": "Python 3.9.13 ('youtube')",
   "language": "python",
   "name": "python3"
  },
  "language_info": {
   "codemirror_mode": {
    "name": "ipython",
    "version": 3
   },
   "file_extension": ".py",
   "mimetype": "text/x-python",
   "name": "python",
   "nbconvert_exporter": "python",
   "pygments_lexer": "ipython3",
   "version": "3.9.13"
  },
  "orig_nbformat": 4,
  "vscode": {
   "interpreter": {
    "hash": "d18e19147c17ab938bef1ed7b4dfc31690b56c1140c35944ae51f208260085bf"
   }
  }
 },
 "nbformat": 4,
 "nbformat_minor": 2
}
